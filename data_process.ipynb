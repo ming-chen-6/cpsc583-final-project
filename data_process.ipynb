{
 "cells": [
  {
   "cell_type": "markdown",
   "metadata": {},
   "source": [
    "After data statistics check, index range 3173-13786 is selected to be converted into training data.\n",
    "\n",
    "That is "
   ]
  },
  {
   "cell_type": "code",
   "execution_count": 1,
   "metadata": {},
   "outputs": [
    {
     "name": "stdout",
     "output_type": "stream",
     "text": [
      "from\n",
      "1987-09-09\n",
      "to\n",
      "2016-09-29\n"
     ]
    }
   ],
   "source": [
    "import pandas as pd\n",
    "import numpy as np\n",
    "\n",
    "rel_path = 'Daily_Precipitation_9412002_[GMT-12].csv'\n",
    "prcpS1 = pd.read_csv(rel_path)\n",
    "\n",
    "begin_date = prcpS1[\"Index\"][3173]\n",
    "end_date = prcpS1[\"Index\"][13786]\n",
    "\n",
    "print(\"from\")\n",
    "print(begin_date)\n",
    "print(\"to\")\n",
    "print(end_date)\n",
    "\n"
   ]
  },
  {
   "cell_type": "markdown",
   "metadata": {},
   "source": [
    "## Showing data"
   ]
  },
  {
   "cell_type": "code",
   "execution_count": 2,
   "metadata": {},
   "outputs": [
    {
     "name": "stdout",
     "output_type": "stream",
     "text": [
      "            Index     x\n",
      "3173   1987-09-09   0.0\n",
      "3174   1987-09-10   0.0\n",
      "3175   1987-09-11   0.0\n",
      "3176   1987-09-12  10.0\n",
      "3177   1987-09-13   7.0\n",
      "...           ...   ...\n",
      "13782  2016-09-25   0.0\n",
      "13783  2016-09-26   0.0\n",
      "13784  2016-09-27   0.0\n",
      "13785  2016-09-28   0.0\n",
      "13786  2016-09-29   9.0\n",
      "\n",
      "[10614 rows x 2 columns]\n"
     ]
    }
   ],
   "source": [
    "prcpS1_cleaned = prcpS1[3173:13787]\n",
    "print(prcpS1_cleaned)"
   ]
  },
  {
   "cell_type": "code",
   "execution_count": 3,
   "metadata": {},
   "outputs": [
    {
     "name": "stdout",
     "output_type": "stream",
     "text": [
      "            Index     x\n",
      "3173   1987-09-09   4.3\n",
      "3174   1987-09-10   0.0\n",
      "3175   1987-09-11   0.0\n",
      "3176   1987-09-12  19.0\n",
      "3177   1987-09-13   2.0\n",
      "...           ...   ...\n",
      "13782  2016-09-25   0.0\n",
      "13783  2016-09-26   0.0\n",
      "13784  2016-09-27   0.0\n",
      "13785  2016-09-28   0.0\n",
      "13786  2016-09-29  12.9\n",
      "\n",
      "[10614 rows x 2 columns]\n"
     ]
    }
   ],
   "source": [
    "rel_path = 'Daily_Precipitation_9412003_[GMT-12].csv'\n",
    "\n",
    "prcpS2 = pd.read_csv(rel_path)\n",
    "prcpS2_cleaned = prcpS2[3173:13787]\n",
    "\n",
    "print(prcpS2_cleaned)"
   ]
  },
  {
   "cell_type": "code",
   "execution_count": 4,
   "metadata": {},
   "outputs": [
    {
     "name": "stdout",
     "output_type": "stream",
     "text": [
      "            Index     x\n",
      "3173   1987-09-09  17.0\n",
      "3174   1987-09-10   0.0\n",
      "3175   1987-09-11   0.0\n",
      "3176   1987-09-12  11.5\n",
      "3177   1987-09-13   3.0\n",
      "...           ...   ...\n",
      "13782  2016-09-25   0.0\n",
      "13783  2016-09-26   0.0\n",
      "13784  2016-09-27   0.0\n",
      "13785  2016-09-28   0.0\n",
      "13786  2016-09-29  11.5\n",
      "\n",
      "[10614 rows x 2 columns]\n"
     ]
    }
   ],
   "source": [
    "rel_path = 'Daily_Precipitation_9414002_[GMT-12].csv'\n",
    "\n",
    "prcpS3 = pd.read_csv(rel_path)\n",
    "prcpS3_cleaned = prcpS3[3173:13787]\n",
    "\n",
    "print(prcpS3_cleaned)"
   ]
  },
  {
   "cell_type": "code",
   "execution_count": 5,
   "metadata": {},
   "outputs": [
    {
     "name": "stdout",
     "output_type": "stream",
     "text": [
      "            Index         x\n",
      "3173   1987-09-09  133.0467\n",
      "3174   1987-09-10  123.9533\n",
      "3175   1987-09-11  117.6150\n",
      "3176   1987-09-12  114.5050\n",
      "3177   1987-09-13  124.3200\n",
      "...           ...       ...\n",
      "13782  2016-09-25   88.2996\n",
      "13783  2016-09-26   88.6700\n",
      "13784  2016-09-27   84.6946\n",
      "13785  2016-09-28   83.4900\n",
      "13786  2016-09-29   83.3871\n",
      "\n",
      "[10614 rows x 2 columns]\n"
     ]
    }
   ],
   "source": [
    "rel_path = 'Daily_Streamflow_TrancuraAntesDeLlafenco_9414001_[GMT-12].csv'\n",
    "\n",
    "flowS1 = pd.read_csv(rel_path)\n",
    "flowS1_cleaned = flowS1[3173:13787]\n",
    "\n",
    "print(flowS1_cleaned)\n"
   ]
  },
  {
   "cell_type": "code",
   "execution_count": 6,
   "metadata": {},
   "outputs": [
    {
     "name": "stdout",
     "output_type": "stream",
     "text": [
      "            Index        x\n",
      "3173   1987-09-09  33.3400\n",
      "3174   1987-09-10  32.2000\n",
      "3175   1987-09-11  30.4900\n",
      "3176   1987-09-12  29.5800\n",
      "3177   1987-09-13  31.0600\n",
      "...           ...      ...\n",
      "13782  2016-09-25  27.7608\n",
      "13783  2016-09-26  26.6908\n",
      "13784  2016-09-27  26.0063\n",
      "13785  2016-09-28  25.9046\n",
      "13786  2016-09-29  25.6487\n",
      "\n",
      "[10614 rows x 2 columns]\n"
     ]
    }
   ],
   "source": [
    "rel_path = 'Daily_Streamflow_TrancuraEnCurarrehue_9412001_[GMT-12].csv'\n",
    "\n",
    "flowS2 = pd.read_csv(rel_path)\n",
    "flowS2_cleaned = flowS2[3173:13787]\n",
    "\n",
    "print(flowS2_cleaned)"
   ]
  },
  {
   "cell_type": "markdown",
   "metadata": {},
   "source": [
    "## Put them into one DataFrame"
   ]
  },
  {
   "cell_type": "code",
   "execution_count": 7,
   "metadata": {},
   "outputs": [
    {
     "name": "stdout",
     "output_type": "stream",
     "text": [
      "True\n",
      "      flowS1-curr  prcpS1-1day  prcpS2-1day  prcpS3-1day  flowS1-1day  \\\n",
      "0        133.0467         12.0         17.0         23.5     139.7200   \n",
      "1        123.9533          0.0          4.3         17.0     133.0467   \n",
      "2        117.6150          0.0          0.0          0.0     123.9533   \n",
      "3        114.5050          0.0          0.0          0.0     117.6150   \n",
      "4        124.3200         10.0         19.0         11.5     114.5050   \n",
      "...           ...          ...          ...          ...          ...   \n",
      "9054      88.2996          0.0          0.0          0.0      88.5133   \n",
      "9055      88.6700          0.0          0.0          0.0      88.2996   \n",
      "9056      84.6946          0.0          0.0          0.0      88.6700   \n",
      "9057      83.4900          0.0          0.0          0.0      84.6946   \n",
      "9058      83.3871          0.0          0.0          0.0      83.4900   \n",
      "\n",
      "      flowS2-1day  prcpS1-2day  prcpS2-2day  prcpS3-2day  flowS1-2day  \\\n",
      "0         33.9100         17.0         32.0         38.0     142.0160   \n",
      "1         33.3400         12.0         17.0         23.5     139.7200   \n",
      "2         32.2000          0.0          4.3         17.0     133.0467   \n",
      "3         30.4900          0.0          0.0          0.0     123.9533   \n",
      "4         29.5800          0.0          0.0          0.0     117.6150   \n",
      "...           ...          ...          ...          ...          ...   \n",
      "9054      27.0246          0.0          0.0          0.0      91.1813   \n",
      "9055      27.7608          0.0          0.0          0.0      88.5133   \n",
      "9056      26.6908          0.0          0.0          0.0      88.2996   \n",
      "9057      26.0063          0.0          0.0          0.0      88.6700   \n",
      "9058      25.9046          0.0          0.0          0.0      84.6946   \n",
      "\n",
      "      flowS2-2day  prcpS1-3day  prcpS2-3day  prcpS3-3day  flowS1-3day  \\\n",
      "0         36.4000         20.0         30.1         27.0     115.9400   \n",
      "1         33.9100         17.0         32.0         38.0     142.0160   \n",
      "2         33.3400         12.0         17.0         23.5     139.7200   \n",
      "3         32.2000          0.0          4.3         17.0     133.0467   \n",
      "4         30.4900          0.0          0.0          0.0     123.9533   \n",
      "...           ...          ...          ...          ...          ...   \n",
      "9054      27.6354          0.0          0.0          0.0      96.1000   \n",
      "9055      27.0246          0.0          0.0          0.0      91.1813   \n",
      "9056      27.7608          0.0          0.0          0.0      88.5133   \n",
      "9057      26.6908          0.0          0.0          0.0      88.2996   \n",
      "9058      26.0063          0.0          0.0          0.0      88.6700   \n",
      "\n",
      "      flowS2-3day  \n",
      "0         37.6000  \n",
      "1         36.4000  \n",
      "2         33.9100  \n",
      "3         33.3400  \n",
      "4         32.2000  \n",
      "...           ...  \n",
      "9054      29.2304  \n",
      "9055      27.6354  \n",
      "9056      27.0246  \n",
      "9057      27.7608  \n",
      "9058      26.6908  \n",
      "\n",
      "[9059 rows x 16 columns]\n"
     ]
    }
   ],
   "source": [
    "import math\n",
    "\n",
    "def checkExistNan(data,curr_index,check_length):\n",
    "    return_val = False\n",
    "    for i in range(curr_index-check_length,curr_index):\n",
    "        if math.isnan(data[i]):\n",
    "            return_val = True\n",
    "    return return_val\n",
    "\n",
    "\n",
    "print(checkExistNan(flowS2[\"x\"],4043,7))\n",
    "\n",
    "\n",
    "train_data = []\n",
    "for i in range(3173,13787):\n",
    "    # train y would be flowS1 value, hence will check valid for past 3 days\n",
    "    if math.isnan(flowS1[\"x\"][i]):\n",
    "        continue\n",
    "    exist_nan_f1 = checkExistNan(flowS1[\"x\"],i,3)\n",
    "    exist_nan_f2 = checkExistNan(flowS2[\"x\"],i,3)\n",
    "    exist_nan_p1 = checkExistNan(prcpS1[\"x\"],i,3)\n",
    "    exist_nan_p2 = checkExistNan(prcpS2[\"x\"],i,3)\n",
    "    exist_nan_p3 = checkExistNan(prcpS3[\"x\"],i,3)\n",
    "    if exist_nan_f1 == True or \\\n",
    "        exist_nan_f2 == True or \\\n",
    "        exist_nan_p1 == True or \\\n",
    "        exist_nan_p2 == True or \\\n",
    "        exist_nan_p3 == True:\n",
    "        continue\n",
    "    #if no nan in this range exist in any dataset, add data to processed dataset\n",
    "    curr_train_data = [flowS1[\"x\"][i],\n",
    "                  prcpS1[\"x\"][i-1], prcpS2[\"x\"][i-1], prcpS3[\"x\"][i-1], flowS1[\"x\"][i-1], flowS2[\"x\"][i-1],\n",
    "                  prcpS1[\"x\"][i-2], prcpS2[\"x\"][i-2], prcpS3[\"x\"][i-2], flowS1[\"x\"][i-2], flowS2[\"x\"][i-2],\n",
    "                  prcpS1[\"x\"][i-3], prcpS2[\"x\"][i-3], prcpS3[\"x\"][i-3], flowS1[\"x\"][i-3], flowS2[\"x\"][i-3]]\n",
    "    train_data.append(curr_train_data)\n",
    "    \n",
    "df_train_val = pd.DataFrame(train_data) \n",
    "df_train_val.columns = [\"flowS1-curr\",\n",
    "                        \"prcpS1-1day\",\"prcpS2-1day\",\"prcpS3-1day\",\"flowS1-1day\",\"flowS2-1day\",\n",
    "                        \"prcpS1-2day\",\"prcpS2-2day\",\"prcpS3-2day\",\"flowS1-2day\",\"flowS2-2day\",\n",
    "                        \"prcpS1-3day\",\"prcpS2-3day\",\"prcpS3-3day\",\"flowS1-3day\",\"flowS2-3day\"]\n",
    "print(df_train_val)\n",
    "\n"
   ]
  },
  {
   "cell_type": "markdown",
   "metadata": {},
   "source": [
    "## Turn value DF indo category DF"
   ]
  },
  {
   "cell_type": "markdown",
   "metadata": {},
   "source": [
    "Data are turned from value to small, medium, large categories.\n",
    "<br>\n",
    "The mapping is as below:\n",
    "<br>\n",
    "<br>flowS1 small: val <= 81.665 medium: 81.665 < val < 135.5 large: val > 135.5\n",
    "<br>\n",
    "<br>flowS2 small: val <= 21.38 medium: 21.38 < val < 35.62 large: val > 35.62\n",
    "<br>\n",
    "<br>prcpS1 small: val = 0 medium: 0 < val < 7.0 large: val > 7.0\n",
    "<br>\n",
    "<br>prcpS2 small: val = 0 medium: 0 < val < 8.8 large: val > 8.8\n",
    "<br>\n",
    "<br>prcpS3 small: val = 0 medium: 0 < val < 10.0 large: val > 10.0\n",
    "\n"
   ]
  },
  {
   "cell_type": "code",
   "execution_count": 8,
   "metadata": {},
   "outputs": [
    {
     "name": "stdout",
     "output_type": "stream",
     "text": [
      "     flowS1-curr prcpS1-1day prcpS2-1day prcpS3-1day flowS1-1day flowS2-1day  \\\n",
      "0         medium       large       large       large       large      medium   \n",
      "1         medium       small      medium       large      medium      medium   \n",
      "2         medium       small       small       small      medium      medium   \n",
      "3         medium       small       small       small      medium      medium   \n",
      "4         medium       large       large       large      medium      medium   \n",
      "...          ...         ...         ...         ...         ...         ...   \n",
      "9054      medium       small       small       small      medium      medium   \n",
      "9055      medium       small       small       small      medium      medium   \n",
      "9056      medium       small       small       small      medium      medium   \n",
      "9057      medium       small       small       small      medium      medium   \n",
      "9058      medium       small       small       small      medium      medium   \n",
      "\n",
      "     prcpS1-2day prcpS2-2day prcpS3-2day flowS1-2day flowS2-2day prcpS1-3day  \\\n",
      "0          large       large       large       large       large       large   \n",
      "1          large       large       large       large      medium       large   \n",
      "2          small      medium       large      medium      medium       large   \n",
      "3          small       small       small      medium      medium       small   \n",
      "4          small       small       small      medium      medium       small   \n",
      "...          ...         ...         ...         ...         ...         ...   \n",
      "9054       small       small       small      medium      medium       small   \n",
      "9055       small       small       small      medium      medium       small   \n",
      "9056       small       small       small      medium      medium       small   \n",
      "9057       small       small       small      medium      medium       small   \n",
      "9058       small       small       small      medium      medium       small   \n",
      "\n",
      "     prcpS2-3day prcpS3-3day flowS1-3day flowS2-3day  \n",
      "0          large       large      medium       large  \n",
      "1          large       large       large       large  \n",
      "2          large       large       large      medium  \n",
      "3         medium       large      medium      medium  \n",
      "4          small       small      medium      medium  \n",
      "...          ...         ...         ...         ...  \n",
      "9054       small       small      medium      medium  \n",
      "9055       small       small      medium      medium  \n",
      "9056       small       small      medium      medium  \n",
      "9057       small       small      medium      medium  \n",
      "9058       small       small      medium      medium  \n",
      "\n",
      "[9059 rows x 16 columns]\n"
     ]
    }
   ],
   "source": [
    "def valToCataMapping(val,val_type):\n",
    "    return_str = \"\"\n",
    "    match val_type:\n",
    "        case \"flowS1\":\n",
    "            if val <= 81.665:\n",
    "                return_str = \"small\"\n",
    "            elif val >= 135.5:\n",
    "                return_str = \"large\"\n",
    "            else:\n",
    "                return_str = \"medium\"\n",
    "\n",
    "        case \"flowS2\":\n",
    "            if val <= 21.38:\n",
    "                return_str = \"small\"\n",
    "            elif val >= 35.63:\n",
    "                return_str = \"large\"\n",
    "            else:\n",
    "                return_str = \"medium\"\n",
    "\n",
    "        case \"prcpS1\":\n",
    "            if val == 0:\n",
    "                return_str = \"small\"\n",
    "            elif val >= 7.0:\n",
    "                return_str = \"large\"\n",
    "            else:\n",
    "                return_str = \"medium\"\n",
    "        \n",
    "        case \"prcpS2\":\n",
    "            if val == 0:\n",
    "                return_str = \"small\"\n",
    "            elif val >= 8.8:\n",
    "                return_str = \"large\"\n",
    "            else:\n",
    "                return_str = \"medium\"\n",
    "\n",
    "        case \"prcpS3\":\n",
    "            if val == 0:\n",
    "                return_str = \"small\"\n",
    "            elif val >= 10.0:\n",
    "                return_str = \"large\"\n",
    "            else:\n",
    "                return_str = \"medium\"\n",
    "    \n",
    "        case _:\n",
    "            print(\"not matched\")\n",
    "    return return_str        \n",
    "\n",
    "train_data_cata = []\n",
    "for i in range(len(df_train_val[\"flowS1-curr\"])):\n",
    "    curr_day_data = []\n",
    "    data_curr = valToCataMapping(df_train_val[\"flowS1-curr\"][i],\"flowS1\")\n",
    "    curr_day_data.append(data_curr)\n",
    "\n",
    "    data_curr = valToCataMapping(df_train_val[\"prcpS1-1day\"][i],\"prcpS1\")\n",
    "    curr_day_data.append(data_curr) \n",
    "    data_curr = valToCataMapping(df_train_val[\"prcpS2-1day\"][i],\"prcpS2\") \n",
    "    curr_day_data.append(data_curr)\n",
    "    data_curr = valToCataMapping(df_train_val[\"prcpS3-1day\"][i],\"prcpS3\") \n",
    "    curr_day_data.append(data_curr)\n",
    "    data_curr = valToCataMapping(df_train_val[\"flowS1-1day\"][i],\"flowS1\") \n",
    "    curr_day_data.append(data_curr)\n",
    "    data_curr = valToCataMapping(df_train_val[\"flowS2-1day\"][i],\"flowS2\") \n",
    "    curr_day_data.append(data_curr)\n",
    "\n",
    "    data_curr = valToCataMapping(df_train_val[\"prcpS1-2day\"][i],\"prcpS1\") \n",
    "    curr_day_data.append(data_curr)\n",
    "    data_curr = valToCataMapping(df_train_val[\"prcpS2-2day\"][i],\"prcpS2\") \n",
    "    curr_day_data.append(data_curr)\n",
    "    data_curr = valToCataMapping(df_train_val[\"prcpS3-2day\"][i],\"prcpS3\") \n",
    "    curr_day_data.append(data_curr)\n",
    "    data_curr = valToCataMapping(df_train_val[\"flowS1-2day\"][i],\"flowS1\") \n",
    "    curr_day_data.append(data_curr)\n",
    "    data_curr = valToCataMapping(df_train_val[\"flowS2-2day\"][i],\"flowS2\") \n",
    "    curr_day_data.append(data_curr)\n",
    "\n",
    "    data_curr = valToCataMapping(df_train_val[\"prcpS1-3day\"][i],\"prcpS1\") \n",
    "    curr_day_data.append(data_curr)\n",
    "    data_curr = valToCataMapping(df_train_val[\"prcpS2-3day\"][i],\"prcpS2\") \n",
    "    curr_day_data.append(data_curr)\n",
    "    data_curr = valToCataMapping(df_train_val[\"prcpS3-3day\"][i],\"prcpS3\") \n",
    "    curr_day_data.append(data_curr)\n",
    "    data_curr = valToCataMapping(df_train_val[\"flowS1-3day\"][i],\"flowS1\") \n",
    "    curr_day_data.append(data_curr)\n",
    "    data_curr = valToCataMapping(df_train_val[\"flowS2-3day\"][i],\"flowS2\")     \n",
    "    curr_day_data.append(data_curr)\n",
    "\n",
    "    train_data_cata.append(curr_day_data)\n",
    "\n",
    "train_cata_df = pd.DataFrame(train_data_cata)\n",
    "\n",
    "train_cata_df.columns = [\"flowS1-curr\",\n",
    "                        \"prcpS1-1day\",\"prcpS2-1day\",\"prcpS3-1day\",\"flowS1-1day\",\"flowS2-1day\",\n",
    "                        \"prcpS1-2day\",\"prcpS2-2day\",\"prcpS3-2day\",\"flowS1-2day\",\"flowS2-2day\",\n",
    "                        \"prcpS1-3day\",\"prcpS2-3day\",\"prcpS3-3day\",\"flowS1-3day\",\"flowS2-3day\",]\n",
    "\n",
    "print(train_cata_df)\n",
    "    \n",
    "\n"
   ]
  },
  {
   "cell_type": "code",
   "execution_count": 9,
   "metadata": {},
   "outputs": [],
   "source": [
    "train_cata_df.to_csv(\"bn_train_cata_data.csv\")  \n",
    "df_train_val.to_csv(\"bn_train_val_data.csv\")  "
   ]
  }
 ],
 "metadata": {
  "kernelspec": {
   "display_name": "Python 3 (ipykernel)",
   "language": "python",
   "name": "python3"
  },
  "language_info": {
   "codemirror_mode": {
    "name": "ipython",
    "version": 3
   },
   "file_extension": ".py",
   "mimetype": "text/x-python",
   "name": "python",
   "nbconvert_exporter": "python",
   "pygments_lexer": "ipython3",
   "version": "3.10.11"
  }
 },
 "nbformat": 4,
 "nbformat_minor": 2
}
